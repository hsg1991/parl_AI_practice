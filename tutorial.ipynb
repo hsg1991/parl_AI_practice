{
 "cells": [
  {
   "cell_type": "code",
   "execution_count": 1,
   "metadata": {
    "collapsed": true
   },
   "outputs": [],
   "source": [
    "%load_ext autoreload\n",
    "%autoreload 2\n",
    "%matplotlib inline"
   ]
  },
  {
   "cell_type": "code",
   "execution_count": 3,
   "metadata": {
    "collapsed": true
   },
   "outputs": [],
   "source": [
    "# Agents\n",
    "# The most basic concept in ParlAI is an Agent.\n",
    "# - Humans\n",
    "# - A simple bot which repeats back anything that it hears\n",
    "# - Perfectly-tuned neural network"
   ]
  },
  {
   "cell_type": "code",
   "execution_count": 1,
   "metadata": {
    "collapsed": true
   },
   "outputs": [],
   "source": [
    "from parlai.core.agents import Agent\n",
    "from parlai.core.params import ParlaiParser\n",
    "from parlai.core.worlds import create_task"
   ]
  },
  {
   "cell_type": "code",
   "execution_count": 80,
   "metadata": {
    "collapsed": true
   },
   "outputs": [],
   "source": [
    "class RepeatLabelAgent(Agent):\n",
    "    # #\n",
    "    # initialize by setting id\n",
    "    # #\n",
    "    def __init__(self, opt):\n",
    "        self.id = 'LabelAgent'\n",
    "    # #\n",
    "    # store observation for later\n",
    "    # #\n",
    "    def observe(self, observation):\n",
    "        self.observation = observation\n",
    "    # #\n",
    "    # return label from before if available\n",
    "    # #\n",
    "    def act(self):\n",
    "        reply = {'id': self.id}\n",
    "        if 'labels' in self.observation:\n",
    "            reply['text'] = ', '.join(self.observation['labels'])\n",
    "#         if 'label_candidates' in self.observation:\n",
    "#             cands = self.observation['label_candidates']\n",
    "#             reply['text'] = random.choice(cands)\n",
    "        else:\n",
    "            reply['text'] = \"I don't know.\"\n",
    "        return reply\n",
    "        \n",
    "#         reply = {'id': self.id}\n",
    "#         if 'labels' in self.observation:\n",
    "#             reply['text'] = ', '.join(self.observation['labels'])\n",
    "#         else:\n",
    "#             reply['text'] = \"I don't know.\"\n",
    "#         return reply"
   ]
  },
  {
   "cell_type": "code",
   "execution_count": 82,
   "metadata": {
    "collapsed": false
   },
   "outputs": [
    {
     "name": "stdout",
     "output_type": "stream",
     "text": [
      "[download_path:/home/sghan/project/ParlAI/downloads]\n",
      "[datatype:valid]\n",
      "[numthreads:1]\n",
      "[no_images:False]\n",
      "[batchsize:1]\n",
      "[datapath:/home/sghan/project/ParlAI/data]\n",
      "[parlai_home:/home/sghan/project/ParlAI]\n",
      "[task:webquestions]\n",
      "\n",
      "[creating task(s): webquestions]\n",
      "[DialogTeacher initializing.]\n",
      "[loading fbdialog data:/home/sghan/project/ParlAI/data/WebQuestions/valid.txt]\n",
      "\n",
      "[webquestions]: what is the name of justin bieber brother?\n",
      "   [LabelAgent]: I don't know.\n",
      "- - - - - - - - - - - - - - - - - - - - -\n",
      "{'total': 1, 'accuracy': 0.0, 'f1': 0.0, 'hits@k': {1: 0.0, 5: 0.0, 10: 0.0, 50: 0.0, 100: 0.0}}\n",
      "[{'text': 'what is the name of justin bieber brother?', 'episode_done': True, 'id': 'webquestions'}, {'id': 'LabelAgent', 'text': \"I don't know.\"}]\n",
      "\n",
      "[webquestions]: what character did natalie portman play in star wars?\n",
      "   [LabelAgent]: I don't know.\n",
      "- - - - - - - - - - - - - - - - - - - - -\n",
      "{'total': 2, 'accuracy': 0.0, 'f1': 0.0, 'hits@k': {1: 0.0, 5: 0.0, 10: 0.0, 50: 0.0, 100: 0.0}}\n",
      "[{'text': 'what character did natalie portman play in star wars?', 'episode_done': True, 'id': 'webquestions'}, {'id': 'LabelAgent', 'text': \"I don't know.\"}]\n",
      "\n",
      "[webquestions]: what state does selena gomez?\n",
      "   [LabelAgent]: I don't know.\n",
      "- - - - - - - - - - - - - - - - - - - - -\n",
      "{'total': 3, 'accuracy': 0.0, 'f1': 0.0, 'hits@k': {1: 0.0, 5: 0.0, 10: 0.0, 50: 0.0, 100: 0.0}}\n",
      "[{'text': 'what state does selena gomez?', 'episode_done': True, 'id': 'webquestions'}, {'id': 'LabelAgent', 'text': \"I don't know.\"}]\n",
      "\n",
      "[webquestions]: what country is the grand bahama island in?\n",
      "   [LabelAgent]: I don't know.\n",
      "- - - - - - - - - - - - - - - - - - - - -\n",
      "{'total': 4, 'accuracy': 0.0, 'f1': 0.0, 'hits@k': {1: 0.0, 5: 0.0, 10: 0.0, 50: 0.0, 100: 0.0}}\n",
      "[{'text': 'what country is the grand bahama island in?', 'episode_done': True, 'id': 'webquestions'}, {'id': 'LabelAgent', 'text': \"I don't know.\"}]\n",
      "\n",
      "[webquestions]: what kind of money to take to bahamas?\n",
      "   [LabelAgent]: I don't know.\n",
      "- - - - - - - - - - - - - - - - - - - - -\n",
      "{'total': 5, 'accuracy': 0.0, 'f1': 0.0, 'hits@k': {1: 0.0, 5: 0.0, 10: 0.0, 50: 0.0, 100: 0.0}}\n",
      "[{'text': 'what kind of money to take to bahamas?', 'episode_done': True, 'id': 'webquestions'}, {'id': 'LabelAgent', 'text': \"I don't know.\"}]\n",
      "\n",
      "[webquestions]: what character did john noble play in lord of the rings?\n",
      "   [LabelAgent]: I don't know.\n",
      "- - - - - - - - - - - - - - - - - - - - -\n",
      "{'total': 6, 'accuracy': 0.0, 'f1': 0.0, 'hits@k': {1: 0.0, 5: 0.0, 10: 0.0, 50: 0.0, 100: 0.0}}\n",
      "[{'text': 'what character did john noble play in lord of the rings?', 'episode_done': True, 'id': 'webquestions'}, {'id': 'LabelAgent', 'text': \"I don't know.\"}]\n",
      "\n",
      "[webquestions]: who does joakim noah play for?\n",
      "   [LabelAgent]: I don't know.\n",
      "- - - - - - - - - - - - - - - - - - - - -\n",
      "{'total': 7, 'accuracy': 0.0, 'f1': 0.0, 'hits@k': {1: 0.0, 5: 0.0, 10: 0.0, 50: 0.0, 100: 0.0}}\n",
      "[{'text': 'who does joakim noah play for?', 'episode_done': True, 'id': 'webquestions'}, {'id': 'LabelAgent', 'text': \"I don't know.\"}]\n",
      "\n",
      "[webquestions]: where are the nfl redskins from?\n",
      "   [LabelAgent]: I don't know.\n",
      "- - - - - - - - - - - - - - - - - - - - -\n",
      "{'total': 8, 'accuracy': 0.0, 'f1': 0.0, 'hits@k': {1: 0.0, 5: 0.0, 10: 0.0, 50: 0.0, 100: 0.0}}\n",
      "[{'text': 'where are the nfl redskins from?', 'episode_done': True, 'id': 'webquestions'}, {'id': 'LabelAgent', 'text': \"I don't know.\"}]\n",
      "\n",
      "[webquestions]: where did saki live?\n",
      "   [LabelAgent]: I don't know.\n",
      "- - - - - - - - - - - - - - - - - - - - -\n",
      "{'total': 9, 'accuracy': 0.0, 'f1': 0.0, 'hits@k': {1: 0.0, 5: 0.0, 10: 0.0, 50: 0.0, 100: 0.0}}\n",
      "[{'text': 'where did saki live?', 'episode_done': True, 'id': 'webquestions'}, {'id': 'LabelAgent', 'text': \"I don't know.\"}]\n",
      "\n",
      "[webquestions]: how old is sacha baron cohen?\n",
      "   [LabelAgent]: I don't know.\n",
      "- - - - - - - - - - - - - - - - - - - - -\n",
      "{'total': 10, 'accuracy': 0.0, 'f1': 0.0, 'hits@k': {1: 0.0, 5: 0.0, 10: 0.0, 50: 0.0, 100: 0.0}}\n",
      "[{'text': 'how old is sacha baron cohen?', 'episode_done': True, 'id': 'webquestions'}, {'id': 'LabelAgent', 'text': \"I don't know.\"}]\n",
      "\n"
     ]
    }
   ],
   "source": [
    "parser = ParlaiParser()\n",
    "\n",
    "opt = parser.parse_args(args='', print_args=False)\n",
    "if 'task' not in opt:\n",
    "    opt['task'] = 'webquestions'\n",
    "    opt['datatype'] = 'valid'\n",
    "parser.print_args()\n",
    "\n",
    "print()\n",
    "\n",
    "agent = RepeatLabelAgent(opt)\n",
    "world = create_task(opt, agent)\n",
    "\n",
    "print()\n",
    "\n",
    "for _ in range(10):\n",
    "    world.parley()\n",
    "    print(world.display())\n",
    "    print(world.report())\n",
    "    print(world.get_acts())\n",
    "    print()\n",
    "    if world.epoch_done():\n",
    "        print('EPOCH DONE')\n",
    "        break"
   ]
  }
 ],
 "metadata": {
  "kernelspec": {
   "display_name": "Python [py35]",
   "language": "python",
   "name": "Python [py35]"
  },
  "language_info": {
   "codemirror_mode": {
    "name": "ipython",
    "version": 3
   },
   "file_extension": ".py",
   "mimetype": "text/x-python",
   "name": "python",
   "nbconvert_exporter": "python",
   "pygments_lexer": "ipython3",
   "version": "3.6.0"
  }
 },
 "nbformat": 4,
 "nbformat_minor": 0
}
